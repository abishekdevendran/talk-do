{
 "cells": [
  {
   "cell_type": "code",
   "execution_count": 9,
   "metadata": {},
   "outputs": [
    {
     "data": {
      "text/plain": [
       "True"
      ]
     },
     "execution_count": 9,
     "metadata": {},
     "output_type": "execute_result"
    }
   ],
   "source": [
    "from dotenv import load_dotenv, find_dotenv\n",
    "load_dotenv(find_dotenv())"
   ]
  },
  {
   "cell_type": "code",
   "execution_count": 10,
   "metadata": {},
   "outputs": [],
   "source": [
    "from langchain_google_genai import ChatGoogleGenerativeAI\n",
    "llm = ChatGoogleGenerativeAI(\n",
    "    model=\"gemini-pro\", convert_system_message_to_human=True)"
   ]
  },
  {
   "cell_type": "code",
   "execution_count": 128,
   "metadata": {},
   "outputs": [],
   "source": [
    "master_todo_list = []\n",
    "master_user_info = {}"
   ]
  },
  {
   "cell_type": "code",
   "execution_count": 161,
   "metadata": {},
   "outputs": [],
   "source": [
    "# Import things that are needed generically\n",
    "from langchain.pydantic_v1 import BaseModel, Field\n",
    "from langchain.tools import BaseTool, StructuredTool, tool\n",
    "\n",
    "\n",
    "@tool\n",
    "def multiply(a: int, b: int) -> int:\n",
    "    \"\"\"Multiply two numbers.\"\"\"\n",
    "    return a * b\n",
    "\n",
    "\n",
    "@tool\n",
    "def add(a: int, b: int) -> int:\n",
    "    \"\"\"Add two numbers.\"\"\"\n",
    "    return a + b\n",
    "\n",
    "\n",
    "class AddTodoInput(BaseModel):\n",
    "    title: str = Field(..., description=\"The title of the todo item.\")\n",
    "    description: str = Field(\n",
    "        None, description=\"The description of the todo item.\")\n",
    "    due_date: str = Field(None, description=\"The due date of the todo item.\")\n",
    "    priority: int = Field(0, description=\"The priority of the todo item.\")\n",
    "    completed: bool = Field(\n",
    "        False, description=\"Whether the todo item is completed.\")\n",
    "    tags: list[str] = Field(\n",
    "        [], description=\"The tags of the todo item. Always add tags exhaustively for easier searching.\")\n",
    "    estimated_time: int = Field(\n",
    "        0, description=\"The estimated time to complete the todo item in minutes.\")\n",
    "\n",
    "\n",
    "@tool(args_schema=AddTodoInput)\n",
    "def add_todo(title: str, description: str = None, due_date: str = None, priority: int = 0, completed: bool = False, tags: list[str] = [], estimated_time: int = 0) -> dict:\n",
    "    \"\"\"Add a todo item. Always check if a relevant todo item already exists before adding it.\"\"\"\n",
    "    todo = {\n",
    "        \"title\": title,\n",
    "        \"description\": description,\n",
    "        \"due_date\": due_date,\n",
    "        \"priority\": priority,\n",
    "        \"completed\": completed,\n",
    "        \"tags\": tags,\n",
    "        \"estimated_time\": estimated_time\n",
    "    }\n",
    "    master_todo_list.append(todo)\n",
    "    return todo\n",
    "\n",
    "\n",
    "class FindRelevantTodosInput(BaseModel):\n",
    "    id: str = Field(None, description=\"The id of the todo item.\")\n",
    "    title: str = Field(...,\n",
    "                       description=\"Fuzzy search for todos with this title.\")\n",
    "    description: str = Field(\n",
    "        None, description=\"Fuzzy search for todos with this description.\")\n",
    "    due_date: str = Field(\n",
    "        None, description=\"Todos with due dates on or before this date.\")\n",
    "    completed: bool = Field(\n",
    "        False, description=\"Whether the todo item is completed.\")\n",
    "    tags: list[str] = Field(\n",
    "        [], description=\"The tags of the todo item. Always add tags exhaustively for easier searching.\")\n",
    "\n",
    "\n",
    "@tool(args_schema=FindRelevantTodosInput)\n",
    "def find_relevant_todos(id: str = None, title: str = None, description: str = None, due_date: str = None, completed: bool = False, tags: list[str] = []) -> list[dict]:\n",
    "    \"\"\"Find relevant todos.\"\"\"\n",
    "    relevant_todos = []\n",
    "    for todo in master_todo_list:\n",
    "        if id and todo[\"id\"] != id:\n",
    "            continue\n",
    "        if title and title not in todo[\"title\"]:\n",
    "            continue\n",
    "        if description and description not in todo[\"description\"]:\n",
    "            continue\n",
    "        if due_date and todo[\"due_date\"] > due_date:\n",
    "            continue\n",
    "        if completed and todo[\"completed\"] != completed:\n",
    "            continue\n",
    "        if tags and not set(tags).issubset(todo[\"tags\"]):\n",
    "            continue\n",
    "        relevant_todos.append(todo)\n",
    "    return relevant_todos\n",
    "\n",
    "class ClarifyingQuestionInput(BaseModel):\n",
    "    question: str = Field(description=\"The clarifying question you wish to ask the user.\")\n",
    "\n",
    "@tool(args_schema=ClarifyingQuestionInput, return_direct=True)\n",
    "def clarifying_question(question: str) -> str:\n",
    "    \"\"\"Ask a clarifying question to the user.\"\"\"\n",
    "    return question\n",
    "\n",
    "class UpdateUserInfoInput(BaseModel):\n",
    "    name: str = Field(None, description=\"The name of the user.\")\n",
    "    date_of_birth: str = Field(None, description=\"The date of birth of the user.\")\n",
    "    month_of_birth: str = Field(None, description=\"The month of birth of the user.\")\n",
    "    year_of_birth: str = Field(None, description=\"The year of birth of the user.\")\n",
    "    age: int = Field(None, description=\"The age of the user.\")\n",
    "    profession: str = Field(None, description=\"The profession of the user.\")\n",
    "    location: str = Field(None, description=\"The location of the user.\")\n",
    "\n",
    "@tool(args_schema=UpdateUserInfoInput)\n",
    "def update_user_info(name: str = None, date_of_birth: str = None, month_of_birth: str = None, year_of_birth: str = None, age:int = None ,profession: str = None, location: str = None) -> dict:\n",
    "    \"\"\"Update details about the user.\"\"\"\n",
    "    user_info = {}\n",
    "    if name:\n",
    "        user_info[\"name\"] = name\n",
    "    if date_of_birth:\n",
    "        user_info[\"date_of_birth\"] = date_of_birth\n",
    "    if month_of_birth:\n",
    "        user_info[\"month_of_birth\"] = month_of_birth\n",
    "    if year_of_birth:\n",
    "        user_info[\"year_of_birth\"] = year_of_birth\n",
    "    if age:\n",
    "        user_info[\"age\"] = age\n",
    "    if profession:\n",
    "        user_info[\"profession\"] = profession\n",
    "    if location:\n",
    "        user_info[\"location\"] = location\n",
    "    master_user_info.update(user_info)\n",
    "    return user_info\n",
    "\n",
    "class LookupUserInfoInput(BaseModel):\n",
    "    name: str = Field(None, description=\"The name of the user.\")\n",
    "    date_of_birth: str = Field(None, description=\"The date of birth of the user.\")\n",
    "    month_of_birth: str = Field(None, description=\"The month of birth of the user.\")\n",
    "    year_of_birth: str = Field(None, description=\"The year of birth of the user.\")\n",
    "    profession: str = Field(None, description=\"The profession of the user.\")\n",
    "    location: str = Field(None, description=\"The location of the user.\")\n",
    "\n",
    "@tool(args_schema=LookupUserInfoInput)\n",
    "def lookup_user_info(name: str = None, date_of_birth: str = None, month_of_birth: str = None, year_of_birth: str = None, profession: str = None, location: str = None) -> dict:\n",
    "    \"\"\"Lookup user info.\"\"\"\n",
    "    user_info = {}\n",
    "    if name:\n",
    "        user_info[\"name\"] = name\n",
    "    if date_of_birth:\n",
    "        user_info[\"date_of_birth\"] = date_of_birth\n",
    "    if month_of_birth:\n",
    "        user_info[\"month_of_birth\"] = month_of_birth\n",
    "    if year_of_birth:\n",
    "        user_info[\"year_of_birth\"] = year_of_birth\n",
    "    if profession:\n",
    "        user_info[\"profession\"] = profession\n",
    "    if location:\n",
    "        user_info[\"location\"] = location\n",
    "    return user_info\n",
    "\n",
    "tools = [multiply, add, add_todo, find_relevant_todos, clarifying_question, update_user_info, lookup_user_info]"
   ]
  },
  {
   "cell_type": "code",
   "execution_count": 162,
   "metadata": {},
   "outputs": [],
   "source": [
    "from langchain.prompts import HumanMessagePromptTemplate, SystemMessagePromptTemplate, ChatPromptTemplate, MessagesPlaceholder\n",
    "from langchain_core.messages import HumanMessage, SystemMessage, ChatMessage\n",
    "\n",
    "sys_prompt = SystemMessagePromptTemplate.from_template(template=\"\"\"You are a great chatty peronsal time organizer called Anya who also happens to be an expert life coach. Be friendly but also very inquisitive to gain more information about the user and their life in general, like their name, age, profession, what's on their mind, etc. When the user mentions some deadline or event, make sure to handle it as a todo. You have access to the following tools:\n",
    "\n",
    "{tools}\n",
    "\n",
    "Use a json blob to specify a tool by providing an action key (tool name) and an action_input key (tool input).\n",
    "\n",
    "Valid \"action\" values: \"Final Answer\" or {tool_names}\n",
    "\n",
    "Provide only ONE action per $JSON_BLOB, as shown:\n",
    "\n",
    "```\n",
    "{{\n",
    "  \"action\": $TOOL_NAME,\n",
    "  \"action_input\": $INPUT\n",
    "}}\n",
    "```\n",
    "\n",
    "Follow this format:\n",
    "\n",
    "Question: input question to answer\n",
    "Thought: consider previous and subsequent steps\n",
    "Action:\n",
    "```\n",
    "$JSON_BLOB\n",
    "```\n",
    "Observation: action result\n",
    "... (repeat Thought/Action/Observation N times)\n",
    "Thought: I know what to respond\n",
    "Action:\n",
    "```\n",
    "{{\n",
    "  \"action\": \"Final Answer\",\n",
    "  \"action_input\": \"Final response to human\"\n",
    "}}\n",
    "\n",
    "Begin! Reminder to ALWAYS respond with a valid json blob of a single action. Use tools if necessary. Respond directly if appropriate. Format is Action:```$JSON_BLOB```then Observation\"\"\")\n",
    "\n",
    "prompt = ChatPromptTemplate.from_messages([\n",
    "    sys_prompt,\n",
    "    MessagesPlaceholder(variable_name=\"chat_history\"),\n",
    "    HumanMessagePromptTemplate.from_template(template=\"\"\"{input}\n",
    "\n",
    "{agent_scratchpad}\n",
    " (reminder to respond in a JSON blob no matter what)\"\"\")\n",
    "])"
   ]
  },
  {
   "cell_type": "code",
   "execution_count": 163,
   "metadata": {},
   "outputs": [],
   "source": [
    "chat_obj = {}"
   ]
  },
  {
   "cell_type": "code",
   "execution_count": 164,
   "metadata": {},
   "outputs": [],
   "source": [
    "# function to serialize the chat history\n",
    "from langchain.memory import ConversationSummaryBufferMemory\n",
    "from langchain.schema import messages_to_dict, messages_from_dict\n",
    "from langchain.memory.chat_message_histories.in_memory import ChatMessageHistory\n",
    "import json\n",
    "\n",
    "\n",
    "def serialize_chat_history(memory: ConversationSummaryBufferMemory, session_id: str):\n",
    "    try:\n",
    "        extracted_messages = memory.chat_memory.messages\n",
    "        ingest_to_db = messages_to_dict(extracted_messages)\n",
    "        # write to db\n",
    "        chat_obj[session_id] = ingest_to_db\n",
    "        return True\n",
    "    except Exception as e:\n",
    "        print(f\"Error while serializing chat history: {e}\")\n",
    "        return None\n",
    "\n",
    "\n",
    "def deserialize_chat_history(session_id: str):\n",
    "    try:\n",
    "        # retrieve from db\n",
    "        ingest_to_db = chat_obj[session_id]\n",
    "        retrieve_from_db = json.loads(json.dumps(ingest_to_db))\n",
    "        retrieved_messages = messages_from_dict(retrieve_from_db)\n",
    "        retrieved_chat_history = ChatMessageHistory(\n",
    "            messages=retrieved_messages)\n",
    "        retrieved_memory = ConversationSummaryBufferMemory(\n",
    "            chat_memory=retrieved_chat_history, llm=llm, max_token_limit=256, return_messages=True, memory_key=\"chat_history\")\n",
    "        return retrieved_memory\n",
    "    except Exception as e:\n",
    "        print(f\"Error while deserializing chat history: {e}\")\n",
    "        return None"
   ]
  },
  {
   "cell_type": "code",
   "execution_count": 165,
   "metadata": {},
   "outputs": [
    {
     "data": {
      "text/plain": [
       "{'chat_history': []}"
      ]
     },
     "execution_count": 165,
     "metadata": {},
     "output_type": "execute_result"
    }
   ],
   "source": [
    "from langchain.memory import ConversationSummaryBufferMemory\n",
    "# check if session_id exists in chat_obj\n",
    "if \"sess_1\" not in chat_obj:\n",
    "    memory = ConversationSummaryBufferMemory(\n",
    "        llm=llm, max_token_limit=256, return_messages=True, memory_key=\"chat_history\")\n",
    "else:\n",
    "    memory = deserialize_chat_history(\"sess_1\")\n",
    "memory.load_memory_variables({})"
   ]
  },
  {
   "cell_type": "code",
   "execution_count": 166,
   "metadata": {},
   "outputs": [],
   "source": [
    "# Construct the JSON agent\n",
    "from langchain.agents import AgentExecutor, create_structured_chat_agent\n",
    "agent = create_structured_chat_agent(llm, tools, prompt)"
   ]
  },
  {
   "cell_type": "code",
   "execution_count": 167,
   "metadata": {},
   "outputs": [],
   "source": [
    "# Create an agent executor by passing in the agent and tools\n",
    "agent_executor = AgentExecutor(\n",
    "    agent=agent, tools=tools, verbose=True, handle_parsing_errors=True\n",
    ")"
   ]
  },
  {
   "cell_type": "code",
   "execution_count": 168,
   "metadata": {},
   "outputs": [],
   "source": [
    "def process_query(query: str) -> str:\n",
    "    resp = agent_executor.invoke(\n",
    "        {\"input\": query, \"chat_history\": memory.load_memory_variables({})[\"chat_history\"]})\n",
    "    memory.save_context(\n",
    "        {\"input\": \"Hi\"}, {\"output\": str(resp[\"output\"])}\n",
    "    )\n",
    "    serialize_chat_history(memory, \"sess_1\")"
   ]
  },
  {
   "cell_type": "code",
   "execution_count": 169,
   "metadata": {},
   "outputs": [
    {
     "name": "stdout",
     "output_type": "stream",
     "text": [
      "\n",
      "\n",
      "\u001b[1m> Entering new AgentExecutor chain...\u001b[0m\n",
      "\u001b[32;1m\u001b[1;3mAction:\n",
      "```\n",
      "{\n",
      "  \"action\": \"clarifying_question\",\n",
      "  \"action_input\": {\n",
      "    \"question\": \"What's your name?\"\n",
      "  }\n",
      "}\n",
      "```\u001b[0m\u001b[33;1m\u001b[1;3mWhat's your name?\u001b[0m\n",
      "\u001b[32;1m\u001b[1;3m\u001b[0m\n",
      "\n",
      "\u001b[1m> Finished chain.\u001b[0m\n"
     ]
    }
   ],
   "source": [
    "process_query(\"Hey there!\")"
   ]
  },
  {
   "cell_type": "code",
   "execution_count": 170,
   "metadata": {},
   "outputs": [
    {
     "name": "stdout",
     "output_type": "stream",
     "text": [
      "\n",
      "\n",
      "\u001b[1m> Entering new AgentExecutor chain...\u001b[0m\n",
      "\u001b[32;1m\u001b[1;3mAction:\n",
      "```\n",
      "{\n",
      "  \"action\": \"update_user_info\",\n",
      "  \"action_input\": {\n",
      "    \"name\": \"Abishek\"\n",
      "  }\n",
      "}\n",
      "```\u001b[0m\u001b[38;5;200m\u001b[1;3m{'name': 'Abishek'}\u001b[0m\u001b[32;1m\u001b[1;3mAction:\n",
      "```\n",
      "{\n",
      "  \"action\": \"Final Answer\",\n",
      "  \"action_input\": \"Nice to meet you, Abishek!\"\n",
      "}\n",
      "```\u001b[0m\n",
      "\n",
      "\u001b[1m> Finished chain.\u001b[0m\n"
     ]
    }
   ],
   "source": [
    "process_query(\"I'm Abishek\")"
   ]
  },
  {
   "cell_type": "code",
   "execution_count": 171,
   "metadata": {},
   "outputs": [
    {
     "name": "stdout",
     "output_type": "stream",
     "text": [
      "\n",
      "\n",
      "\u001b[1m> Entering new AgentExecutor chain...\u001b[0m\n",
      "\u001b[32;1m\u001b[1;3mAction:\n",
      "```\n",
      "{\n",
      "  \"action\": \"add_todo\",\n",
      "  \"action_input\": {\n",
      "    \"title\": \"Abishek's 21st birthday\",\n",
      "    \"description\": \"Celebrate Abishek's 21st birthday\",\n",
      "    \"due_date\": \"2024-05-01\"\n",
      "  }\n",
      "}\n",
      "```\n",
      "\u001b[0m\u001b[38;5;200m\u001b[1;3m{'title': \"Abishek's 21st birthday\", 'description': \"Celebrate Abishek's 21st birthday\", 'due_date': '2024-05-01', 'priority': 0, 'completed': False, 'tags': [], 'estimated_time': 0}\u001b[0m\u001b[32;1m\u001b[1;3mAction:\n",
      "```\n",
      "{\n",
      "  \"action\": \"Final Answer\",\n",
      "  \"action_input\": \"Got it, Abishek! I've added your birthday to your calendar.\"\n",
      "}\n",
      "```\u001b[0m\n",
      "\n",
      "\u001b[1m> Finished chain.\u001b[0m\n"
     ]
    }
   ],
   "source": [
    "process_query(\"I'm turning 21 this May\")"
   ]
  },
  {
   "cell_type": "code",
   "execution_count": 172,
   "metadata": {},
   "outputs": [
    {
     "name": "stdout",
     "output_type": "stream",
     "text": [
      "\n",
      "\n",
      "\u001b[1m> Entering new AgentExecutor chain...\u001b[0m\n",
      "\u001b[32;1m\u001b[1;3mAction:\n",
      "```\n",
      "{\n",
      "  \"action\": \"add_todo\",\n",
      "  \"action_input\": {\n",
      "    \"title\": \"College final year project presentation\",\n",
      "    \"due_date\": \"May 10, 2023\",\n",
      "    \"priority\": 2,\n",
      "    \"tags\": [\"college\", \"project\", \"presentation\"]\n",
      "  }\n",
      "}\n",
      "```\u001b[0m\u001b[38;5;200m\u001b[1;3m{'title': 'College final year project presentation', 'description': None, 'due_date': 'May 10, 2023', 'priority': 2, 'completed': False, 'tags': ['college', 'project', 'presentation'], 'estimated_time': 0}\u001b[0m\u001b[32;1m\u001b[1;3mAction:\n",
      "```\n",
      "{\n",
      "  \"action\": \"Final Answer\",\n",
      "  \"action_input\": \"I've added your college final year project presentation to your calendar.\"\n",
      "}\n",
      "```\u001b[0m\n",
      "\n",
      "\u001b[1m> Finished chain.\u001b[0m\n"
     ]
    }
   ],
   "source": [
    "process_query(\"My college's final year project presentation is coming up\")"
   ]
  }
 ],
 "metadata": {
  "kernelspec": {
   "display_name": ".venv",
   "language": "python",
   "name": "python3"
  },
  "language_info": {
   "codemirror_mode": {
    "name": "ipython",
    "version": 3
   },
   "file_extension": ".py",
   "mimetype": "text/x-python",
   "name": "python",
   "nbconvert_exporter": "python",
   "pygments_lexer": "ipython3",
   "version": "3.12.2"
  }
 },
 "nbformat": 4,
 "nbformat_minor": 2
}
